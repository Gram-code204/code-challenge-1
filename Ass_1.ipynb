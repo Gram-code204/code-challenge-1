{
 "cells": [
  {
   "cell_type": "markdown",
   "id": "02accedd-0111-4e4b-8113-07dd15509c79",
   "metadata": {},
   "source": [
    "# Challenge 1"
   ]
  },
  {
   "cell_type": "code",
   "execution_count": 5,
   "id": "c70c6f98-caed-4c3e-b68b-baa74ff7507b",
   "metadata": {},
   "outputs": [],
   "source": [
    "# and the year as a four digit integer.\n",
    "# Ensure that your function reports the correct number of days in February for leap years.\n"
   ]
  },
  {
   "cell_type": "code",
   "execution_count": 1,
   "id": "2d13ed59-5820-467c-89a3-7dac92fa4206",
   "metadata": {},
   "outputs": [
    {
     "name": "stdout",
     "output_type": "stream",
     "text": [
      "Number of days is 31\n"
     ]
    }
   ],
   "source": [
    "month = 12\n",
    "year = 2024\n",
    "\n",
    "if (month == 2) and ((year % 4 == 0) or ((year % 100 == 0) and (year % 400 == 0))):\n",
    "    print(\"Number of days is 29\")\n",
    "elif month == 2:\n",
    "    print(\"Number of days is 28\")\n",
    "elif month in (1, 3, 5, 7, 8, 10, 12):\n",
    "    print(\"Number of days is 31\")\n",
    "else:\n",
    "    print(\"Number of days is 30\")\n"
   ]
  },
  {
   "cell_type": "markdown",
   "id": "e9f0a1ac-16fe-403e-89f8-71c39fb015a4",
   "metadata": {},
   "source": [
    "# Challenge 2"
   ]
  },
  {
   "cell_type": "code",
   "execution_count": 6,
   "id": "6f178eca-e8d1-4856-853c-2bdae1ce19c2",
   "metadata": {},
   "outputs": [],
   "source": [
    "# In a particular company, taxi fares consist of a base fare of Ksh.200,\n",
    "# plus Ksh.25 for every 140 meters traveled.\n",
    "# Write a function that takes the distance traveled (in kilometers)\n",
    "# as its only parameter and returns the total fare as its only result."
   ]
  },
  {
   "cell_type": "code",
   "execution_count": 15,
   "id": "c7335e33-b32b-4159-8261-f9da73cab9e5",
   "metadata": {},
   "outputs": [
    {
     "data": {
      "text/plain": [
       "200"
      ]
     },
     "execution_count": 15,
     "metadata": {},
     "output_type": "execute_result"
    }
   ],
   "source": [
    "def calculate_tax_fare(distance):\n",
    "    #convert distance from kilometers to meters\n",
    "    distance_meters = distance*1000\n",
    "\n",
    "    #calculate the number of 140 meters interval\n",
    "    intervals = distance // 140\n",
    "\n",
    "    #calculate the fare base on the number of intervals\n",
    "    fare = 200 + (25* intervals)\n",
    "\n",
    "    return fare\n",
    "    \n",
    "calculate_tax_fare(50)"
   ]
  },
  {
   "cell_type": "markdown",
   "id": "eb86eccf-c2cf-45e2-9933-0d482f1e796f",
   "metadata": {},
   "source": [
    "# Challenge 3"
   ]
  },
  {
   "cell_type": "code",
   "execution_count": 7,
   "id": "6eebc165-4987-45f3-b29c-ae8761aa3d3d",
   "metadata": {},
   "outputs": [],
   "source": [
    "# A particular cell phone plan includes 20 minutes of air time and 20 text messages\n",
    "# for Ksh. 50.00 a month. Each additional minute of air time costs Ksh. 3.00,\n",
    "# while additional text messages cost Ksh. 2.00 each.\n",
    "# The entire bill (including the 999 charge) is subject to 16 percent VAT tax.\n",
    "# Write a program that reads the number of minutes and text messages used in a month from the user.\n",
    "# Display the base charge, additional minutes charge (if any),\n",
    "# additional text message charge (if any), tax and total bill amount.\n",
    "# Only display the additional minute and text message charges if the user incurred costs in these categories.\n",
    "# Ensure that all of the charges are displayed using 2 decimal places."
   ]
  },
  {
   "cell_type": "code",
   "execution_count": 16,
   "id": "ef581435-c23c-4e9a-802a-ecd30ae3c47b",
   "metadata": {},
   "outputs": [
    {
     "ename": "SyntaxError",
     "evalue": "invalid syntax (1264677038.py, line 1)",
     "output_type": "error",
     "traceback": [
      "\u001b[1;36m  Cell \u001b[1;32mIn[16], line 1\u001b[1;36m\u001b[0m\n\u001b[1;33m    Read the number of minutes and text messages used from the user\u001b[0m\n\u001b[1;37m         ^\u001b[0m\n\u001b[1;31mSyntaxError\u001b[0m\u001b[1;31m:\u001b[0m invalid syntax\n"
     ]
    }
   ],
   "source": [
    " Read the number of minutes and text messages used from the user\n",
    "minutes_used = int(input(\"Enter the number of minutes used: \"))\n",
    "messages_used = int(input(\"Enter the number of text messages used: \"))\n",
    "\n",
    "# Constants for the plan charges\n",
    "base_charge = 50.00\n",
    "additional_minute_charge = 3.00\n",
    "additional_message_charge = 2.00\n",
    "vat_tax_rate = 0.16\n",
    "\n",
    "# Calculate the additional charges\n",
    "additional_minute_cost = max(minutes_used - 20, 0) * additional_minute_charge\n",
    "additional_message_cost = max(messages_used - 20, 0) * additional_message_charge\n",
    "\n",
    "# Calculate the total bill amount\n",
    "subtotal = base_charge + additional_minute_cost + additional_message_cost\n",
    "vat_tax = subtotal * vat_tax_rate\n",
    "total_bill = subtotal + vat_tax\n",
    "\n",
    "# Display the charges and total bill amount\n",
    "print(f\"Base charge: Ksh. {base_charge:.2f}\")\n",
    "if additional_minute_cost > 0:\n",
    "    print(f\"Additional minute charge: Ksh. {additional_minute_cost:.2f}\")\n",
    "if additional_message_cost > 0:\n",
    "    print(f\"Additional message charge: Ksh. {additional_message_cost:.2f}\")\n",
    "print(f\"Tax: Ksh. {vat_tax:.2f}\")\n",
    "print(f\"Total bill: Ksh. {total_bill:.2f}\")"
   ]
  },
  {
   "cell_type": "markdown",
   "id": "cf949890-9bee-4f7f-8489-28da1c038c27",
   "metadata": {},
   "source": [
    "# Challenge 4"
   ]
  },
  {
   "cell_type": "code",
   "execution_count": 8,
   "id": "835c8977-deab-4feb-9249-a55652ac2ce2",
   "metadata": {},
   "outputs": [],
   "source": [
    "# An online retailer provides express shipping for many of its items at a rate of Ksh 200 for the first item, and Ksh. 25 for each subsequent item.\n",
    "# Write a function that takes the number of items in the order from the user.\n",
    "# Return the shipping charge for the order as the function’s result."
   ]
  },
  {
   "cell_type": "code",
   "execution_count": 19,
   "id": "29d39110-f30b-42b7-9010-beeac3ed8ef1",
   "metadata": {},
   "outputs": [
    {
     "data": {
      "text/plain": [
       "325"
      ]
     },
     "execution_count": 19,
     "metadata": {},
     "output_type": "execute_result"
    }
   ],
   "source": [
    "def shipping_charge(num_of_items):\n",
    "    # Calculate the shipping charge based on the number of items \n",
    "    if num_of_items == 1:\n",
    "        return 200\n",
    "    elif num_of_items > 1:\n",
    "        return 200 + (num_of_items - 1) * 25\n",
    "    else:\n",
    "        return \"Number of items is invalid. Please enter a valid number of items.\"\n",
    "shipping_charge(6)        "
   ]
  },
  {
   "cell_type": "markdown",
   "id": "509ba348-1fa4-4f7f-afb3-aa080aaf509c",
   "metadata": {},
   "source": [
    "# Challenge 5"
   ]
  },
  {
   "cell_type": "code",
   "execution_count": 9,
   "id": "d84de34a-86bd-48fd-9a78-3dd5b3c6b967",
   "metadata": {},
   "outputs": [],
   "source": [
    "# Create a function to sum all the numbers in a list a = [6, 5, 4, 3, 2, 1]"
   ]
  },
  {
   "cell_type": "code",
   "execution_count": 7,
   "id": "e9763f91-c482-4546-819e-dabb2460d820",
   "metadata": {},
   "outputs": [
    {
     "name": "stdout",
     "output_type": "stream",
     "text": [
      "21\n"
     ]
    }
   ],
   "source": [
    "def add(a,b,c,d,e,f):\n",
    "    return(a+b+c+d+e+f)\n",
    "\n",
    "print(add(6, 5, 4, 3, 2, 1))"
   ]
  },
  {
   "cell_type": "code",
   "execution_count": null,
   "id": "75753e09-b586-4c54-b3bc-b78ebf0c8c49",
   "metadata": {},
   "outputs": [],
   "source": []
  }
 ],
 "metadata": {
  "kernelspec": {
   "display_name": "Python 3 (ipykernel)",
   "language": "python",
   "name": "python3"
  },
  "language_info": {
   "codemirror_mode": {
    "name": "ipython",
    "version": 3
   },
   "file_extension": ".py",
   "mimetype": "text/x-python",
   "name": "python",
   "nbconvert_exporter": "python",
   "pygments_lexer": "ipython3",
   "version": "3.11.7"
  }
 },
 "nbformat": 4,
 "nbformat_minor": 5
}
